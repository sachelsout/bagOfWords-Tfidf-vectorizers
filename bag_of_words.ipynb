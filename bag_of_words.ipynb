{
 "cells": [
  {
   "attachments": {},
   "cell_type": "markdown",
   "metadata": {},
   "source": [
    "<h1>Sample Collection/Corpus of documents</h1>"
   ]
  },
  {
   "attachments": {},
   "cell_type": "markdown",
   "metadata": {},
   "source": [
    "We will be implementing Bag Of Words (BoW) vectorizer from scratch as well as from sklearn's library and comapare the outputs of both."
   ]
  },
  {
   "cell_type": "code",
   "execution_count": 1,
   "metadata": {},
   "outputs": [],
   "source": [
    "# Collection of string documents\n",
    "\n",
    "corpus = [\n",
    "     'the cat sat on the tree',\n",
    "     'the cat and dog are the best friends',\n",
    "     'there is a scarcity of mango tree and the pug dog',\n",
    "     'few cat are missing',\n",
    "]"
   ]
  },
  {
   "attachments": {},
   "cell_type": "markdown",
   "metadata": {},
   "source": [
    "<h1>BOW from Scratch Implementation</h1>"
   ]
  },
  {
   "attachments": {
    "image.png": {
     "image/png": "[encoded data removed]"
    }
   },
   "cell_type": "markdown",
   "metadata": {},
   "source": [
    "![image.png](attachment:image.png)"
   ]
  },
  {
   "attachments": {},
   "cell_type": "markdown",
   "metadata": {},
   "source": [
    "<h3>Function to find the unique words in the corpus (excluding punctuations)</h3>"
   ]
  },
  {
   "cell_type": "code",
   "execution_count": 14,
   "metadata": {},
   "outputs": [],
   "source": [
    "# importing required libraries\n",
    "from collections import Counter  \n",
    "from scipy.sparse import csr_matrix\n",
    "import math\n",
    "from operator import itemgetter, attrgetter\n",
    "import numpy as np"
   ]
  },
  {
   "cell_type": "code",
   "execution_count": 15,
   "metadata": {},
   "outputs": [
    {
     "name": "stdout",
     "output_type": "stream",
     "text": [
      "['and', 'are', 'best', 'cat', 'dog', 'few', 'friends', 'is', 'mango', 'missing', 'of', 'on', 'pug', 'sat', 'scarcity', 'the', 'there', 'tree']\n"
     ]
    }
   ],
   "source": [
    "def unique_words(corpus): \n",
    "  unique_words_list = set()\n",
    "\n",
    "  if isinstance(corpus, (list,)):  # corpus provided should be a list of sentences\n",
    "    for row in corpus:\n",
    "      for word in row.split(\" \"):\n",
    "        if len(word) < 2:\n",
    "          continue\n",
    "        unique_words_list.add(word)\n",
    "\n",
    "    unique_words_list = sorted(list(unique_words_list))  # sorting alphabetically \n",
    "    vocabulary = {j:i for i,j in enumerate(unique_words_list)}  # assigning variable for the unique words and their indices (alphabetically i.e. sorted order)\n",
    "\n",
    "    return vocabulary\n",
    "  else:\n",
    "    print(\"Pass list of sentences\")\n",
    "\n",
    "vocabulary = unique_words(corpus)\n",
    "# printing the unique set of words list\n",
    "print(list(vocabulary.keys()))"
   ]
  },
  {
   "attachments": {},
   "cell_type": "markdown",
   "metadata": {},
   "source": [
    "<h3>Function to calculate BoW value (frequency of each unique word) of unique words</h3>"
   ]
  },
  {
   "cell_type": "code",
   "execution_count": 16,
   "metadata": {},
   "outputs": [
    {
     "name": "stdout",
     "output_type": "stream",
     "text": [
      "Sparse Matrix format - \n",
      "   (0, 3)\t1\n",
      "  (0, 11)\t1\n",
      "  (0, 13)\t1\n",
      "  (0, 15)\t2\n",
      "  (0, 17)\t1\n",
      "Dense Matrix format - \n",
      " [[0 0 0 1 0 0 0 0 0 0 0 1 0 1 0 2 0 1]]\n"
     ]
    }
   ],
   "source": [
    "def bow_calculate(corpus,vocabulary):\n",
    "  # empty lists for storing row index, column index and tfidf values respectively\n",
    "  rows, columns, values = [], [], []\n",
    "  \n",
    "  if isinstance(corpus, (list,)):  # corpus provided should be a list of sentences\n",
    "    \n",
    "    for index, row in enumerate(corpus):\n",
    "      # count the number of occurrences/frequency of each unique word in the documents\n",
    "      word_frequency = dict(Counter(row.split()))\n",
    "\n",
    "      for word, frequency in word_frequency.items():\n",
    "        if len(word) < 2:\n",
    "          continue\n",
    "\n",
    "        # retreiving the dimension number/column number of the unique words\n",
    "        # column index is -1, it means word(key) is not present\n",
    "        column_index = vocabulary.get(word, -1)\n",
    "        \n",
    "        # if the word is present \n",
    "        if column_index != -1:  \n",
    "          # appending the rows indices, column indices\n",
    "          rows.append(index)  \n",
    "          columns.append(column_index)\n",
    "\n",
    "          # calculating and storing tfidf values\n",
    "          bow_value = frequency\n",
    "          values.append(bow_value)\n",
    "\n",
    "    # csr matrix used to store keys and values in sparse format # reference -https://docs.scipy.org/doc/scipy/reference/generated/scipy.sparse.csr_matrix.html\n",
    "    return csr_matrix((values, (rows,columns)), shape=(len(corpus), len(vocabulary)))\n",
    "  \n",
    "  else:\n",
    "    print(\"Pass list of strings\")\n",
    "\n",
    "\n",
    "# printing first line of the corpus(BoW values) in sparse matrix format\n",
    "print('Sparse Matrix format - \\n', bow_calculate(corpus,vocabulary)[0])\n",
    "\n",
    "# converting sparse matrix output into dense matrix output and then printing\n",
    "print('Dense Matrix format - \\n', bow_calculate(corpus,vocabulary)[0].toarray())  "
   ]
  },
  {
   "attachments": {},
   "cell_type": "markdown",
   "metadata": {},
   "source": [
    "<h1>BOW SKLearn Implementation</h1>"
   ]
  },
  {
   "cell_type": "code",
   "execution_count": 17,
   "metadata": {},
   "outputs": [],
   "source": [
    "from sklearn.feature_extraction.text import CountVectorizer\n",
    "\n",
    "# fit and transform the data\n",
    "vectorizer = CountVectorizer()\n",
    "vectorizer.fit(corpus)\n",
    "skl_output = vectorizer.transform(corpus)"
   ]
  },
  {
   "cell_type": "code",
   "execution_count": 18,
   "metadata": {},
   "outputs": [
    {
     "name": "stdout",
     "output_type": "stream",
     "text": [
      "['and', 'are', 'best', 'cat', 'dog', 'few', 'friends', 'is', 'mango', 'missing', 'of', 'on', 'pug', 'sat', 'scarcity', 'the', 'there', 'tree']\n"
     ]
    }
   ],
   "source": [
    "# sklearn feature names, they are sorted in alphabetic order by default.\n",
    "print(vectorizer.get_feature_names())"
   ]
  },
  {
   "cell_type": "code",
   "execution_count": 19,
   "metadata": {},
   "outputs": [
    {
     "data": {
      "text/plain": [
       "(4, 18)"
      ]
     },
     "execution_count": 19,
     "metadata": {},
     "output_type": "execute_result"
    }
   ],
   "source": [
    "# shape of sklearn BoW vectorizer output after applying transform method.\n",
    "\n",
    "skl_output.shape"
   ]
  },
  {
   "cell_type": "code",
   "execution_count": 20,
   "metadata": {},
   "outputs": [
    {
     "name": "stdout",
     "output_type": "stream",
     "text": [
      "  (0, 3)\t1\n",
      "  (0, 11)\t1\n",
      "  (0, 13)\t1\n",
      "  (0, 15)\t2\n",
      "  (0, 17)\t1\n"
     ]
    }
   ],
   "source": [
    "# Here the output is a sparse matrix\n",
    "\n",
    "print(skl_output[0])"
   ]
  },
  {
   "cell_type": "code",
   "execution_count": 21,
   "metadata": {},
   "outputs": [
    {
     "name": "stdout",
     "output_type": "stream",
     "text": [
      "[[0 0 0 1 0 0 0 0 0 0 0 1 0 1 0 2 0 1]]\n"
     ]
    }
   ],
   "source": [
    "# converting the sparse output matrix to dense matrix and printing it.\n",
    "\n",
    "print(skl_output[0].toarray())"
   ]
  },
  {
   "attachments": {},
   "cell_type": "markdown",
   "metadata": {},
   "source": [
    "<h1>Conclusion - </h1>\n",
    "After comparing the BoW values of both the implementation, we can confirm that <u>we've calculated the BoW values of the input data corpus from scratch correctly.</u>"
   ]
  }
 ],
 "metadata": {
  "kernelspec": {
   "display_name": "Python 3",
   "language": "python",
   "name": "python3"
  },
  "language_info": {
   "codemirror_mode": {
    "name": "ipython",
    "version": 3
   },
   "file_extension": ".py",
   "mimetype": "text/x-python",
   "name": "python",
   "nbconvert_exporter": "python",
   "pygments_lexer": "ipython3",
   "version": "3.6.3rc1"
  },
  "orig_nbformat": 4,
  "vscode": {
   "interpreter": {
    "hash": "ddd6761975197fbc4ef659dbdffb63715fd5e8b8ddbd04717d29484adca602ef"
   }
  }
 },
 "nbformat": 4,
 "nbformat_minor": 2
}
